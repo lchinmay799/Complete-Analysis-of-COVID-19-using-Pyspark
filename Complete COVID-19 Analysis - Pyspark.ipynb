{
 "cells": [
  {
   "cell_type": "code",
   "execution_count": 1,
   "metadata": {},
   "outputs": [],
   "source": [
    "import pyspark\n",
    "from pyspark import SparkContext\n",
    "import pandas as pd"
   ]
  },
  {
   "cell_type": "code",
   "execution_count": 2,
   "metadata": {
    "scrolled": true
   },
   "outputs": [],
   "source": [
    "sc=SparkContext()"
   ]
  },
  {
   "cell_type": "code",
   "execution_count": 3,
   "metadata": {},
   "outputs": [],
   "source": [
    "countries=sc.textFile(\"/home/hduser/Desktop/Big Data/Dataset/All_Countries.csv\")"
   ]
  },
  {
   "cell_type": "code",
   "execution_count": 4,
   "metadata": {},
   "outputs": [
    {
     "data": {
      "text/plain": [
       "/home/hduser/Desktop/Big Data/Dataset/All_Countries.csv MapPartitionsRDD[1] at textFile at NativeMethodAccessorImpl.java:0"
      ]
     },
     "execution_count": 4,
     "metadata": {},
     "output_type": "execute_result"
    }
   ],
   "source": [
    "countries"
   ]
  },
  {
   "cell_type": "code",
   "execution_count": 5,
   "metadata": {},
   "outputs": [
    {
     "data": {
      "text/plain": [
       "['Date,Country,Confirmed,Recovered,Deaths',\n",
       " '2021-05-24,Zimbabwe,38696,36471,1586']"
      ]
     },
     "execution_count": 5,
     "metadata": {},
     "output_type": "execute_result"
    }
   ],
   "source": [
    "countries.top(2)"
   ]
  },
  {
   "cell_type": "code",
   "execution_count": 6,
   "metadata": {},
   "outputs": [],
   "source": [
    "countries_data=countries.map(lambda x:x.split(','))"
   ]
  },
  {
   "cell_type": "code",
   "execution_count": 7,
   "metadata": {},
   "outputs": [
    {
     "data": {
      "text/plain": [
       "PythonRDD[3] at RDD at PythonRDD.scala:53"
      ]
     },
     "execution_count": 7,
     "metadata": {},
     "output_type": "execute_result"
    }
   ],
   "source": [
    "countries_data"
   ]
  },
  {
   "cell_type": "code",
   "execution_count": 8,
   "metadata": {},
   "outputs": [
    {
     "data": {
      "text/plain": [
       "93889"
      ]
     },
     "execution_count": 8,
     "metadata": {},
     "output_type": "execute_result"
    }
   ],
   "source": [
    "countries_data.count()"
   ]
  },
  {
   "cell_type": "code",
   "execution_count": 9,
   "metadata": {},
   "outputs": [
    {
     "data": {
      "text/plain": [
       "[['Date', 'Country', 'Confirmed', 'Recovered', 'Deaths'],\n",
       " ['2021-05-24', 'Zimbabwe', '38696', '36471', '1586'],\n",
       " ['2021-05-24', 'Zambia', '93279', '91200', '1271'],\n",
       " ['2021-05-24', 'Yemen', '6662', '3260', '1310'],\n",
       " ['2021-05-24', 'West Bank and Gaza', '305777', '298502', '3470'],\n",
       " ['2021-05-24', 'Vietnam', '5404', '2794', '44'],\n",
       " ['2021-05-24', 'Venezuela', '224819', '208218', '2528'],\n",
       " ['2021-05-24', 'Vanuatu', '4', '3', '1'],\n",
       " ['2021-05-24', 'Uzbekistan', '98657', '94143', '680'],\n",
       " ['2021-05-24', 'Uruguay', '267888', '230641', '3922']]"
      ]
     },
     "execution_count": 9,
     "metadata": {},
     "output_type": "execute_result"
    }
   ],
   "source": [
    "countries_data.top(10)"
   ]
  },
  {
   "cell_type": "code",
   "execution_count": 10,
   "metadata": {},
   "outputs": [],
   "source": [
    "from pyspark.sql import SparkSession\n",
    "from pyspark.sql.types import *"
   ]
  },
  {
   "cell_type": "code",
   "execution_count": 11,
   "metadata": {
    "scrolled": true
   },
   "outputs": [],
   "source": [
    "spark=SparkSession.builder.appName(\"COVID -19 Analysis\").getOrCreate()"
   ]
  },
  {
   "cell_type": "code",
   "execution_count": 12,
   "metadata": {},
   "outputs": [],
   "source": [
    "schema=StructType(\n",
    "    [StructField('Date',DateType(),True),\n",
    "     StructField('Country',StringType(),True),\n",
    "     StructField('Confirmed',IntegerType(),True),\n",
    "     StructField('Recovered',IntegerType(),True),\n",
    "     StructField('Deaths',IntegerType(),True)\n",
    "    ]\n",
    ")"
   ]
  },
  {
   "cell_type": "code",
   "execution_count": 13,
   "metadata": {},
   "outputs": [],
   "source": [
    "countries_data=spark.read.csv(\"/home/hduser/Desktop/Big Data/Dataset/All_Countries.csv\",header=True,schema=schema)"
   ]
  },
  {
   "cell_type": "code",
   "execution_count": 14,
   "metadata": {},
   "outputs": [
    {
     "data": {
      "text/plain": [
       "DataFrame[Date: date, Country: string, Confirmed: int, Recovered: int, Deaths: int]"
      ]
     },
     "execution_count": 14,
     "metadata": {},
     "output_type": "execute_result"
    }
   ],
   "source": [
    "countries_data"
   ]
  },
  {
   "cell_type": "code",
   "execution_count": 15,
   "metadata": {},
   "outputs": [
    {
     "name": "stdout",
     "output_type": "stream",
     "text": [
      "+----------+-----------+---------+---------+------+\n",
      "|      Date|    Country|Confirmed|Recovered|Deaths|\n",
      "+----------+-----------+---------+---------+------+\n",
      "|2020-01-22|Afghanistan|        0|        0|     0|\n",
      "|2020-01-23|Afghanistan|        0|        0|     0|\n",
      "|2020-01-24|Afghanistan|        0|        0|     0|\n",
      "|2020-01-25|Afghanistan|        0|        0|     0|\n",
      "|2020-01-26|Afghanistan|        0|        0|     0|\n",
      "|2020-01-27|Afghanistan|        0|        0|     0|\n",
      "|2020-01-28|Afghanistan|        0|        0|     0|\n",
      "|2020-01-29|Afghanistan|        0|        0|     0|\n",
      "|2020-01-30|Afghanistan|        0|        0|     0|\n",
      "|2020-01-31|Afghanistan|        0|        0|     0|\n",
      "|2020-02-01|Afghanistan|        0|        0|     0|\n",
      "|2020-02-02|Afghanistan|        0|        0|     0|\n",
      "|2020-02-03|Afghanistan|        0|        0|     0|\n",
      "|2020-02-04|Afghanistan|        0|        0|     0|\n",
      "|2020-02-05|Afghanistan|        0|        0|     0|\n",
      "|2020-02-06|Afghanistan|        0|        0|     0|\n",
      "|2020-02-07|Afghanistan|        0|        0|     0|\n",
      "|2020-02-08|Afghanistan|        0|        0|     0|\n",
      "|2020-02-09|Afghanistan|        0|        0|     0|\n",
      "|2020-02-10|Afghanistan|        0|        0|     0|\n",
      "+----------+-----------+---------+---------+------+\n",
      "only showing top 20 rows\n",
      "\n"
     ]
    }
   ],
   "source": [
    "countries_data.show()"
   ]
  },
  {
   "cell_type": "code",
   "execution_count": 16,
   "metadata": {},
   "outputs": [
    {
     "data": {
      "text/plain": [
       "93888"
      ]
     },
     "execution_count": 16,
     "metadata": {},
     "output_type": "execute_result"
    }
   ],
   "source": [
    "countries_data.count()"
   ]
  },
  {
   "cell_type": "code",
   "execution_count": 17,
   "metadata": {},
   "outputs": [
    {
     "name": "stdout",
     "output_type": "stream",
     "text": [
      "root\n",
      " |-- Date: date (nullable = true)\n",
      " |-- Country: string (nullable = true)\n",
      " |-- Confirmed: integer (nullable = true)\n",
      " |-- Recovered: integer (nullable = true)\n",
      " |-- Deaths: integer (nullable = true)\n",
      "\n"
     ]
    }
   ],
   "source": [
    "countries_data.printSchema()"
   ]
  },
  {
   "cell_type": "code",
   "execution_count": 18,
   "metadata": {},
   "outputs": [],
   "source": [
    "l1=countries_data.collect()"
   ]
  },
  {
   "cell_type": "code",
   "execution_count": 19,
   "metadata": {},
   "outputs": [
    {
     "data": {
      "text/plain": [
       "93888"
      ]
     },
     "execution_count": 19,
     "metadata": {},
     "output_type": "execute_result"
    }
   ],
   "source": [
    "len(l1)"
   ]
  },
  {
   "cell_type": "code",
   "execution_count": 20,
   "metadata": {},
   "outputs": [],
   "source": [
    "l2=[]\n",
    "l2.append(l1[0])\n",
    "i=0\n",
    "while i <len(l1):\n",
    "    t=[l1[i][0],l1[i][1]]\n",
    "    if l1[i][1]==l1[i-1][1]:\n",
    "        for j in range(2,5):\n",
    "            t.append(l1[i][j]-l1[i-1][j])\n",
    "    else:\n",
    "        for j in range(2,5):\n",
    "            t.append(l1[i][j])\n",
    "    i+=1\n",
    "    l2.append(t)"
   ]
  },
  {
   "cell_type": "code",
   "execution_count": 21,
   "metadata": {},
   "outputs": [],
   "source": [
    "countries_data=spark.createDataFrame(l2,schema)"
   ]
  },
  {
   "cell_type": "code",
   "execution_count": 22,
   "metadata": {},
   "outputs": [],
   "source": [
    "countries_data.createOrReplaceTempView(\"Countries\")"
   ]
  },
  {
   "cell_type": "markdown",
   "metadata": {},
   "source": [
    "# WHICH COUNTRY HAS THE HIGHEST ACTIVE CASES"
   ]
  },
  {
   "cell_type": "code",
   "execution_count": 23,
   "metadata": {},
   "outputs": [
    {
     "name": "stdout",
     "output_type": "stream",
     "text": [
      "+-------+----------+---------+\n",
      "|Country|      Date|Confirmed|\n",
      "+-------+----------+---------+\n",
      "| Turkey|2020-12-10|   823225|\n",
      "+-------+----------+---------+\n",
      "\n"
     ]
    }
   ],
   "source": [
    "spark.sql(\"SELECT Country,Date,Confirmed FROM Countries WHERE Confirmed=(SELECT max(Confirmed)  FROM Countries)\").show()"
   ]
  },
  {
   "cell_type": "code",
   "execution_count": 24,
   "metadata": {},
   "outputs": [
    {
     "name": "stdout",
     "output_type": "stream",
     "text": [
      "+-------+----------+------+\n",
      "|Country|      Date|Deaths|\n",
      "+-------+----------+------+\n",
      "|  India|2021-05-18|  4529|\n",
      "+-------+----------+------+\n",
      "\n"
     ]
    }
   ],
   "source": [
    "spark.sql(\"SELECT Country,Date,Deaths FROM Countries WHERE Deaths=(SELECT max(Deaths)  FROM Countries)\").show()"
   ]
  },
  {
   "cell_type": "code",
   "execution_count": 25,
   "metadata": {},
   "outputs": [
    {
     "name": "stdout",
     "output_type": "stream",
     "text": [
      "+-------+----------+---------+\n",
      "|Country|      Date|Recovered|\n",
      "+-------+----------+---------+\n",
      "| Turkey|2020-12-12|  1123456|\n",
      "+-------+----------+---------+\n",
      "\n"
     ]
    }
   ],
   "source": [
    "spark.sql(\"SELECT Country,Date,Recovered FROM Countries WHERE Recovered=(SELECT max(Recovered)  FROM Countries)\").show()"
   ]
  },
  {
   "cell_type": "markdown",
   "metadata": {},
   "source": [
    "# ACTIVE CASES IN INDIA"
   ]
  },
  {
   "cell_type": "code",
   "execution_count": 26,
   "metadata": {},
   "outputs": [],
   "source": [
    "India_cases=spark.sql(\"SELECT Confirmed FROM Countries WHERE Country='India'\")"
   ]
  },
  {
   "cell_type": "code",
   "execution_count": 27,
   "metadata": {},
   "outputs": [
    {
     "data": {
      "image/png": "[encoded data removed]",
      "text/plain": [
       "<Figure size 432x288 with 1 Axes>"
      ]
     },
     "metadata": {
      "needs_background": "light"
     },
     "output_type": "display_data"
    }
   ],
   "source": [
    "import matplotlib.pyplot as plt\n",
    "India_cases=India_cases.collect()\n",
    "plt.plot(India_cases)\n",
    "plt.show()"
   ]
  },
  {
   "cell_type": "markdown",
   "metadata": {},
   "source": [
    "# ACTIVE CASES IN INDIA IN LAST 50 DAYS"
   ]
  },
  {
   "cell_type": "code",
   "execution_count": 28,
   "metadata": {},
   "outputs": [
    {
     "data": {
      "image/png": "[encoded data removed]",
      "text/plain": [
       "<Figure size 432x288 with 1 Axes>"
      ]
     },
     "metadata": {
      "needs_background": "light"
     },
     "output_type": "display_data"
    }
   ],
   "source": [
    "plt.plot(India_cases[-50:])\n",
    "plt.show()"
   ]
  },
  {
   "cell_type": "markdown",
   "metadata": {},
   "source": [
    "# DEATHS IN INDIA SINCE LAST YEAR"
   ]
  },
  {
   "cell_type": "code",
   "execution_count": 29,
   "metadata": {},
   "outputs": [],
   "source": [
    "India_deaths=spark.sql(\"SELECT Deaths from Countries WHERE Country='India'\")"
   ]
  },
  {
   "cell_type": "code",
   "execution_count": 30,
   "metadata": {},
   "outputs": [
    {
     "data": {
      "image/png": "[encoded data removed]",
      "text/plain": [
       "<Figure size 432x288 with 1 Axes>"
      ]
     },
     "metadata": {
      "needs_background": "light"
     },
     "output_type": "display_data"
    }
   ],
   "source": [
    "India_deaths=India_deaths.collect()\n",
    "plt.plot(India_deaths)\n",
    "plt.show()"
   ]
  },
  {
   "cell_type": "markdown",
   "metadata": {},
   "source": [
    "# RECOVORED CASES IN INDIA"
   ]
  },
  {
   "cell_type": "code",
   "execution_count": 31,
   "metadata": {},
   "outputs": [
    {
     "data": {
      "image/png": "[encoded data removed]",
      "text/plain": [
       "<Figure size 432x288 with 1 Axes>"
      ]
     },
     "metadata": {
      "needs_background": "light"
     },
     "output_type": "display_data"
    }
   ],
   "source": [
    "India_recovored=spark.sql(\"SELECT Recovered FROM Countries WHERE Country='India'\")\n",
    "India_recovored=India_recovored.collect()\n",
    "plt.plot(India_recovored)\n",
    "plt.show()"
   ]
  },
  {
   "cell_type": "markdown",
   "metadata": {},
   "source": [
    "# AVERAGE RECOVORY IN INDIA"
   ]
  },
  {
   "cell_type": "code",
   "execution_count": 32,
   "metadata": {},
   "outputs": [
    {
     "name": "stdout",
     "output_type": "stream",
     "text": [
      "+------------------+\n",
      "|  Average_Recovory|\n",
      "+------------------+\n",
      "|48523.539877300616|\n",
      "+------------------+\n",
      "\n"
     ]
    }
   ],
   "source": [
    "avg_recovory=spark.sql(\"SELECT SUM(Recovered)/COUNT(*) as Average_Recovory FROM Countries WHERE Country='India'\")\n",
    "avg_recovory.show()"
   ]
  },
  {
   "cell_type": "markdown",
   "metadata": {},
   "source": [
    "# AVERAGE CONFIRMED CASES IN INDIA"
   ]
  },
  {
   "cell_type": "code",
   "execution_count": 33,
   "metadata": {},
   "outputs": [
    {
     "name": "stdout",
     "output_type": "stream",
     "text": [
      "+-----------------+\n",
      "|    Average_Cases|\n",
      "+-----------------+\n",
      "|54708.48057259714|\n",
      "+-----------------+\n",
      "\n"
     ]
    }
   ],
   "source": [
    "avg_cases=spark.sql(\"SELECT SUM(Confirmed)/COUNT(*) as Average_Cases FROM Countries WHERE Country='India'\")\n",
    "avg_cases.show()"
   ]
  },
  {
   "cell_type": "code",
   "execution_count": 34,
   "metadata": {},
   "outputs": [
    {
     "name": "stdout",
     "output_type": "stream",
     "text": [
      "1.127462685346867\n"
     ]
    }
   ],
   "source": [
    "print(avg_cases.head()[0]/avg_recovory.head()[0])"
   ]
  },
  {
   "cell_type": "code",
   "execution_count": 35,
   "metadata": {},
   "outputs": [
    {
     "name": "stdout",
     "output_type": "stream",
     "text": [
      "+-----------------+\n",
      "|   Average_Deaths|\n",
      "+-----------------+\n",
      "|621.1042944785277|\n",
      "+-----------------+\n",
      "\n"
     ]
    }
   ],
   "source": [
    "avg_deaths=spark.sql(\"SELECT SUM(Deaths)/COUNT(*) as Average_Deaths FROM Countries WHERE Country='India'\")\n",
    "avg_deaths.show()"
   ]
  },
  {
   "cell_type": "code",
   "execution_count": 36,
   "metadata": {},
   "outputs": [],
   "source": [
    "import numpy\n",
    "def create_dataset(dataset,time_step=1):\n",
    "    dataX,dataY=[],[]\n",
    "    for i in range(len(dataset)-time_step-1):\n",
    "        a=dataset[i:(i+time_step),0]\n",
    "        dataX.append(a)\n",
    "        dataY.append(dataset[i+time_step,0])\n",
    "    return numpy.array(dataX),numpy.array(dataY)"
   ]
  },
  {
   "cell_type": "code",
   "execution_count": 37,
   "metadata": {},
   "outputs": [],
   "source": [
    "from sklearn.model_selection import train_test_split\n",
    "def split_data(x,y):\n",
    "    x_train,x_test,y_train,y_test=train_test_split(x,y,test_size=0.1)\n",
    "    return x_train,y_train,x_test,y_test"
   ]
  },
  {
   "cell_type": "code",
   "execution_count": 38,
   "metadata": {},
   "outputs": [],
   "source": [
    "from sklearn.preprocessing import MinMaxScaler\n",
    "def scale_data(scaler,data):\n",
    "    scaler.fit(data)\n",
    "    data=scaler.transform(data)\n",
    "    return data"
   ]
  },
  {
   "cell_type": "code",
   "execution_count": 39,
   "metadata": {},
   "outputs": [],
   "source": [
    "from tensorflow.keras.models import Sequential\n",
    "from tensorflow.keras.layers import Dense\n",
    "from tensorflow.keras.layers import LSTM\n",
    "from sklearn.metrics import mean_squared_error\n",
    "\n",
    "def predict(data):\n",
    "    scaler=MinMaxScaler(feature_range=(0,1))\n",
    "    \n",
    "    data=scale_data(scaler,data)\n",
    "    \n",
    "    x,y=create_dataset(data,25)\n",
    "    \n",
    "    x_train,y_train,x_test,y_test=split_data(x,y)\n",
    "    \n",
    "    print(x_train.shape,y_train.shape,x_test.shape,y_test.shape)\n",
    "    \n",
    "    x_train=x_train.reshape(x_train.shape[0],25,1)\n",
    "    x_test=x_test.reshape(x_test.shape[0],25,1)\n",
    "\n",
    "    model=Sequential()\n",
    "    model.add(LSTM(512,return_sequences=True,input_shape=(25,1)))\n",
    "    model.add(LSTM(256,return_sequences=True))\n",
    "    model.add(LSTM(128,return_sequences=True))\n",
    "    model.add(LSTM(64,return_sequences=True))\n",
    "    model.add(LSTM(32,return_sequences=True))\n",
    "    model.add(LSTM(16))\n",
    "    model.add(Dense(1))\n",
    "    model.compile(loss='mean_squared_error',optimizer='adam')\n",
    "    \n",
    "    print(model.summary())\n",
    "    print(\"\\n\\n\\n\")\n",
    "    \n",
    "    model.fit(x_train,y_train,validation_data=(x_test,y_test),epochs=4,batch_size=32,verbose=1)    \n",
    "    \n",
    "    y_pred=model.predict(x_test)\n",
    "    \n",
    "    error=numpy.sqrt(mean_squared_error(y_test,y_pred))\n",
    "    \n",
    "    print(\"Error : \",error)\n",
    "    \n",
    "    y_test=scaler.inverse_transform(y_test.reshape(-1,1))\n",
    "    y_pred=scaler.inverse_transform(y_pred.reshape(-1,1))\n",
    "            \n",
    "    plt.plot(y_test,color='red',label='Actual')\n",
    "    plt.plot(y_pred,color='yellow',label='Prediction')\n",
    "    plt.legend()\n",
    "    plt.show()"
   ]
  },
  {
   "cell_type": "code",
   "execution_count": 40,
   "metadata": {},
   "outputs": [
    {
     "name": "stdout",
     "output_type": "stream",
     "text": [
      "(416, 25) (416,) (47, 25) (47,)\n",
      "Model: \"sequential\"\n",
      "_________________________________________________________________\n",
      "Layer (type)                 Output Shape              Param #   \n",
      "=================================================================\n",
      "lstm (LSTM)                  (None, 25, 512)           1052672   \n",
      "_________________________________________________________________\n",
      "lstm_1 (LSTM)                (None, 25, 256)           787456    \n",
      "_________________________________________________________________\n",
      "lstm_2 (LSTM)                (None, 25, 128)           197120    \n",
      "_________________________________________________________________\n",
      "lstm_3 (LSTM)                (None, 25, 64)            49408     \n",
      "_________________________________________________________________\n",
      "lstm_4 (LSTM)                (None, 25, 32)            12416     \n",
      "_________________________________________________________________\n",
      "lstm_5 (LSTM)                (None, 16)                3136      \n",
      "_________________________________________________________________\n",
      "dense (Dense)                (None, 1)                 17        \n",
      "=================================================================\n",
      "Total params: 2,102,225\n",
      "Trainable params: 2,102,225\n",
      "Non-trainable params: 0\n",
      "_________________________________________________________________\n",
      "None\n",
      "\n",
      "\n",
      "\n",
      "\n",
      "Epoch 1/4\n",
      "13/13 [==============================] - 13s 544ms/step - loss: 0.0172 - val_loss: 0.0238\n",
      "Epoch 2/4\n",
      "13/13 [==============================] - 3s 270ms/step - loss: 0.0140 - val_loss: 0.0104\n",
      "Epoch 3/4\n",
      "13/13 [==============================] - 3s 250ms/step - loss: 0.0068 - val_loss: 0.0043\n",
      "Epoch 4/4\n",
      "13/13 [==============================] - 3s 248ms/step - loss: 0.0042 - val_loss: 0.0031\n",
      "Error :  0.05580980584938136\n"
     ]
    },
    {
     "data": {
      "image/png": "[encoded data removed]",
      "text/plain": [
       "<Figure size 432x288 with 1 Axes>"
      ]
     },
     "metadata": {
      "needs_background": "light"
     },
     "output_type": "display_data"
    }
   ],
   "source": [
    "predict(numpy.array(India_recovored))"
   ]
  },
  {
   "cell_type": "code",
   "execution_count": 41,
   "metadata": {},
   "outputs": [
    {
     "name": "stdout",
     "output_type": "stream",
     "text": [
      "(416, 25) (416,) (47, 25) (47,)\n",
      "Model: \"sequential_1\"\n",
      "_________________________________________________________________\n",
      "Layer (type)                 Output Shape              Param #   \n",
      "=================================================================\n",
      "lstm_6 (LSTM)                (None, 25, 512)           1052672   \n",
      "_________________________________________________________________\n",
      "lstm_7 (LSTM)                (None, 25, 256)           787456    \n",
      "_________________________________________________________________\n",
      "lstm_8 (LSTM)                (None, 25, 128)           197120    \n",
      "_________________________________________________________________\n",
      "lstm_9 (LSTM)                (None, 25, 64)            49408     \n",
      "_________________________________________________________________\n",
      "lstm_10 (LSTM)               (None, 25, 32)            12416     \n",
      "_________________________________________________________________\n",
      "lstm_11 (LSTM)               (None, 16)                3136      \n",
      "_________________________________________________________________\n",
      "dense_1 (Dense)              (None, 1)                 17        \n",
      "=================================================================\n",
      "Total params: 2,102,225\n",
      "Trainable params: 2,102,225\n",
      "Non-trainable params: 0\n",
      "_________________________________________________________________\n",
      "None\n",
      "\n",
      "\n",
      "\n",
      "\n",
      "Epoch 1/4\n",
      "13/13 [==============================] - 11s 530ms/step - loss: 0.0238 - val_loss: 0.0074\n",
      "Epoch 2/4\n",
      "13/13 [==============================] - 3s 250ms/step - loss: 0.0139 - val_loss: 0.0044\n",
      "Epoch 3/4\n",
      "13/13 [==============================] - 3s 249ms/step - loss: 0.0116 - val_loss: 0.0079\n",
      "Epoch 4/4\n",
      "13/13 [==============================] - 3s 249ms/step - loss: 0.0058 - val_loss: 0.0069\n",
      "Error :  0.08302590658179147\n"
     ]
    },
    {
     "data": {
      "image/png": "[encoded data removed]",
      "text/plain": [
       "<Figure size 432x288 with 1 Axes>"
      ]
     },
     "metadata": {
      "needs_background": "light"
     },
     "output_type": "display_data"
    }
   ],
   "source": [
    "predict(numpy.array(India_cases))"
   ]
  },
  {
   "cell_type": "code",
   "execution_count": 42,
   "metadata": {},
   "outputs": [
    {
     "name": "stdout",
     "output_type": "stream",
     "text": [
      "(416, 25) (416,) (47, 25) (47,)\n",
      "Model: \"sequential_2\"\n",
      "_________________________________________________________________\n",
      "Layer (type)                 Output Shape              Param #   \n",
      "=================================================================\n",
      "lstm_12 (LSTM)               (None, 25, 512)           1052672   \n",
      "_________________________________________________________________\n",
      "lstm_13 (LSTM)               (None, 25, 256)           787456    \n",
      "_________________________________________________________________\n",
      "lstm_14 (LSTM)               (None, 25, 128)           197120    \n",
      "_________________________________________________________________\n",
      "lstm_15 (LSTM)               (None, 25, 64)            49408     \n",
      "_________________________________________________________________\n",
      "lstm_16 (LSTM)               (None, 25, 32)            12416     \n",
      "_________________________________________________________________\n",
      "lstm_17 (LSTM)               (None, 16)                3136      \n",
      "_________________________________________________________________\n",
      "dense_2 (Dense)              (None, 1)                 17        \n",
      "=================================================================\n",
      "Total params: 2,102,225\n",
      "Trainable params: 2,102,225\n",
      "Non-trainable params: 0\n",
      "_________________________________________________________________\n",
      "None\n",
      "\n",
      "\n",
      "\n",
      "\n",
      "Epoch 1/4\n",
      "13/13 [==============================] - 9s 398ms/step - loss: 0.0299 - val_loss: 0.0153\n",
      "Epoch 2/4\n",
      "13/13 [==============================] - 3s 255ms/step - loss: 0.0087 - val_loss: 0.0109\n",
      "Epoch 3/4\n",
      "13/13 [==============================] - 3s 251ms/step - loss: 0.0068 - val_loss: 0.0081\n",
      "Epoch 4/4\n",
      "13/13 [==============================] - 3s 251ms/step - loss: 0.0050 - val_loss: 0.0038\n",
      "Error :  0.06202679926179628\n"
     ]
    },
    {
     "data": {
      "image/png": "[encoded data removed]",
      "text/plain": [
       "<Figure size 432x288 with 1 Axes>"
      ]
     },
     "metadata": {
      "needs_background": "light"
     },
     "output_type": "display_data"
    }
   ],
   "source": [
    "predict(numpy.array(India_deaths))"
   ]
  },
  {
   "cell_type": "code",
   "execution_count": 43,
   "metadata": {},
   "outputs": [],
   "source": [
    "brazil_covid=sc.textFile(\"/home/hduser/Desktop/Big Data/Dataset/Brazil_Data.csv\")\n",
    "brazil_population=sc.textFile(\"/home/hduser/Desktop/Big Data/Dataset/Brazil_Population.csv\")"
   ]
  },
  {
   "cell_type": "code",
   "execution_count": 44,
   "metadata": {},
   "outputs": [
    {
     "data": {
      "text/plain": [
       "(/home/hduser/Desktop/Big Data/Dataset/Brazil_Population.csv MapPartitionsRDD[80] at textFile at NativeMethodAccessorImpl.java:0,\n",
       " /home/hduser/Desktop/Big Data/Dataset/Brazil_Data.csv MapPartitionsRDD[78] at textFile at NativeMethodAccessorImpl.java:0)"
      ]
     },
     "execution_count": 44,
     "metadata": {},
     "output_type": "execute_result"
    }
   ],
   "source": [
    "brazil_population,brazil_covid"
   ]
  },
  {
   "cell_type": "code",
   "execution_count": 45,
   "metadata": {},
   "outputs": [],
   "source": [
    "brazil_population=brazil_population.map(lambda x:x.split(','))\n",
    "brazil_covid=brazil_covid.map(lambda x:x.split(','))"
   ]
  },
  {
   "cell_type": "code",
   "execution_count": 46,
   "metadata": {},
   "outputs": [
    {
     "data": {
      "text/plain": [
       "(PythonRDD[81] at RDD at PythonRDD.scala:53,\n",
       " PythonRDD[82] at RDD at PythonRDD.scala:53)"
      ]
     },
     "execution_count": 46,
     "metadata": {},
     "output_type": "execute_result"
    }
   ],
   "source": [
    "brazil_covid,brazil_population"
   ]
  },
  {
   "cell_type": "code",
   "execution_count": 47,
   "metadata": {},
   "outputs": [
    {
     "data": {
      "text/plain": [
       "2866"
      ]
     },
     "execution_count": 47,
     "metadata": {},
     "output_type": "execute_result"
    }
   ],
   "source": [
    "brazil_population.count()"
   ]
  },
  {
   "cell_type": "code",
   "execution_count": 48,
   "metadata": {},
   "outputs": [
    {
     "data": {
      "text/plain": [
       "2356111"
      ]
     },
     "execution_count": 48,
     "metadata": {},
     "output_type": "execute_result"
    }
   ],
   "source": [
    "brazil_covid.count()"
   ]
  },
  {
   "cell_type": "code",
   "execution_count": 49,
   "metadata": {},
   "outputs": [
    {
     "data": {
      "text/plain": [
       "[['region',\n",
       "  'state',\n",
       "  'city',\n",
       "  'state_code',\n",
       "  'city_code',\n",
       "  'health_region_code',\n",
       "  'health_region',\n",
       "  'population'],\n",
       " ['Sul',\n",
       "  'Santa Catarina',\n",
       "  'Águas de Chapecó',\n",
       "  '42',\n",
       "  '420050',\n",
       "  '42002',\n",
       "  'Oeste',\n",
       "  '6486'],\n",
       " ['Sul',\n",
       "  'Santa Catarina',\n",
       "  'Águas Mornas',\n",
       "  '42',\n",
       "  '420060',\n",
       "  '42007',\n",
       "  'Grande Florianópolis',\n",
       "  '6469']]"
      ]
     },
     "execution_count": 49,
     "metadata": {},
     "output_type": "execute_result"
    }
   ],
   "source": [
    "brazil_population.top(3)"
   ]
  },
  {
   "cell_type": "code",
   "execution_count": 50,
   "metadata": {},
   "outputs": [],
   "source": [
    "schema=StructType(\n",
    "    [StructField('region',StringType(),True),\n",
    "     StructField('state',StringType(),True),\n",
    "     StructField('city',StringType(),True),\n",
    "     StructField('state_code',IntegerType(),True),\n",
    "     StructField('city_code',IntegerType(),True),\n",
    "     StructField('health_region_code',IntegerType(),True),\n",
    "     StructField('health_region',StringType(),True),\n",
    "     StructField('population',IntegerType(),True),\n",
    "    ]\n",
    ")"
   ]
  },
  {
   "cell_type": "code",
   "execution_count": 51,
   "metadata": {},
   "outputs": [],
   "source": [
    "brazil_population_data=spark.read.csv(\"/home/hduser/Desktop/Big Data/Dataset/Brazil_Population.csv\",header=True,schema=schema)"
   ]
  },
  {
   "cell_type": "code",
   "execution_count": 52,
   "metadata": {},
   "outputs": [
    {
     "data": {
      "text/plain": [
       "[['date', 'state', 'name', 'code', 'cases', 'deaths'],\n",
       " ['2021-05-23', 'TO', 'Xambioá', '172210.0', '2031.0', '27'],\n",
       " ['2021-05-23', 'TO', 'Wanderlândia', '172208.0', '772.0', '11']]"
      ]
     },
     "execution_count": 52,
     "metadata": {},
     "output_type": "execute_result"
    }
   ],
   "source": [
    "brazil_covid.top(3)"
   ]
  },
  {
   "cell_type": "code",
   "execution_count": 53,
   "metadata": {},
   "outputs": [],
   "source": [
    "schema=StructType(\n",
    "    [StructField('date',DateType(),True),\n",
    "     StructField('state',StringType(),True),\n",
    "     StructField('name',StringType(),True),\n",
    "     StructField('code',FloatType(),True),\n",
    "     StructField('cases',FloatType(),True),\n",
    "     StructField('deaths',IntegerType(),True)\n",
    "    ]\n",
    ")"
   ]
  },
  {
   "cell_type": "code",
   "execution_count": 54,
   "metadata": {},
   "outputs": [],
   "source": [
    "brazil_covid_data=spark.read.csv(\"/home/hduser/Desktop/Big Data/Dataset/Brazil_Data.csv\",header=True,schema=schema)"
   ]
  },
  {
   "cell_type": "code",
   "execution_count": 55,
   "metadata": {},
   "outputs": [
    {
     "data": {
      "text/plain": [
       "2356110"
      ]
     },
     "execution_count": 55,
     "metadata": {},
     "output_type": "execute_result"
    }
   ],
   "source": [
    "brazil_covid_data.count()"
   ]
  },
  {
   "cell_type": "code",
   "execution_count": 56,
   "metadata": {},
   "outputs": [],
   "source": [
    "brazil_covid_data2=brazil_covid_data.sort('date').sort('name')"
   ]
  },
  {
   "cell_type": "code",
   "execution_count": 57,
   "metadata": {},
   "outputs": [
    {
     "name": "stdout",
     "output_type": "stream",
     "text": [
      "+----------+-----+---------------+--------+------+------+\n",
      "|      date|state|           name|    code| cases|deaths|\n",
      "+----------+-----+---------------+--------+------+------+\n",
      "|2021-05-01|   GO|Abadia de Goiás|520005.0|1251.0|    25|\n",
      "|2021-05-21|   GO|Abadia de Goiás|520005.0|1351.0|    27|\n",
      "|2021-05-02|   GO|Abadia de Goiás|520005.0|1253.0|    25|\n",
      "|2021-04-23|   GO|Abadia de Goiás|520005.0|1235.0|    23|\n",
      "|2021-05-03|   GO|Abadia de Goiás|520005.0|1253.0|    25|\n",
      "|2021-04-19|   GO|Abadia de Goiás|520005.0|1210.0|    19|\n",
      "|2021-05-04|   GO|Abadia de Goiás|520005.0|1275.0|    26|\n",
      "|2021-04-21|   GO|Abadia de Goiás|520005.0|1223.0|    22|\n",
      "|2021-05-05|   GO|Abadia de Goiás|520005.0|1286.0|    26|\n",
      "|2021-04-24|   GO|Abadia de Goiás|520005.0|1239.0|    23|\n",
      "|2021-05-06|   GO|Abadia de Goiás|520005.0|1287.0|    26|\n",
      "|2021-04-26|   GO|Abadia de Goiás|520005.0|1239.0|    23|\n",
      "|2021-05-07|   GO|Abadia de Goiás|520005.0|1290.0|    26|\n",
      "|2021-04-28|   GO|Abadia de Goiás|520005.0|1247.0|    25|\n",
      "|2021-05-08|   GO|Abadia de Goiás|520005.0|1291.0|    26|\n",
      "|2021-04-30|   GO|Abadia de Goiás|520005.0|1251.0|    25|\n",
      "|2021-05-09|   GO|Abadia de Goiás|520005.0|1291.0|    26|\n",
      "|2021-05-12|   GO|Abadia de Goiás|520005.0|1315.0|    26|\n",
      "|2021-05-20|   GO|Abadia de Goiás|520005.0|1344.0|    27|\n",
      "|2021-05-13|   GO|Abadia de Goiás|520005.0|1322.0|    27|\n",
      "+----------+-----+---------------+--------+------+------+\n",
      "only showing top 20 rows\n",
      "\n"
     ]
    }
   ],
   "source": [
    "brazil_covid_data2.show()"
   ]
  },
  {
   "cell_type": "code",
   "execution_count": 58,
   "metadata": {},
   "outputs": [],
   "source": [
    "brazil_population_data.createOrReplaceTempView(\"Brazil_Population\")"
   ]
  },
  {
   "cell_type": "code",
   "execution_count": 59,
   "metadata": {},
   "outputs": [],
   "source": [
    "brazil_covid_data.createOrReplaceTempView(\"Brazil_Cases\")"
   ]
  },
  {
   "cell_type": "markdown",
   "metadata": {},
   "source": [
    "# NUMBER OF STATES IN BRAZIL"
   ]
  },
  {
   "cell_type": "code",
   "execution_count": 60,
   "metadata": {},
   "outputs": [
    {
     "data": {
      "text/plain": [
       "27"
      ]
     },
     "execution_count": 60,
     "metadata": {},
     "output_type": "execute_result"
    }
   ],
   "source": [
    "spark.sql(\"SELECT DISTINCT state_code FROM Brazil_Population\").count()"
   ]
  },
  {
   "cell_type": "markdown",
   "metadata": {},
   "source": [
    "# NUMBER OF CITIES IN BRAZIL"
   ]
  },
  {
   "cell_type": "code",
   "execution_count": 61,
   "metadata": {},
   "outputs": [
    {
     "data": {
      "text/plain": [
       "2865"
      ]
     },
     "execution_count": 61,
     "metadata": {},
     "output_type": "execute_result"
    }
   ],
   "source": [
    "spark.sql(\"SELECT DISTINCT city_code FROM Brazil_Population\").count()"
   ]
  },
  {
   "cell_type": "markdown",
   "metadata": {},
   "source": [
    "# POPULATION OF EACH STATE"
   ]
  },
  {
   "cell_type": "code",
   "execution_count": 62,
   "metadata": {},
   "outputs": [
    {
     "name": "stdout",
     "output_type": "stream",
     "text": [
      "+-------------------+----------+\n",
      "|              state|Population|\n",
      "+-------------------+----------+\n",
      "|     Santa Catarina|   6260519|\n",
      "| Mato Grosso do Sul|   2063969|\n",
      "|              Goiás|   5621030|\n",
      "|        Mato Grosso|   2385097|\n",
      "|              Ceará|   9040536|\n",
      "|              Piauí|   2429598|\n",
      "|     Espírito Santo|   3841551|\n",
      "|             Paraná|   9018230|\n",
      "|            Alagoas|   2897092|\n",
      "|              Bahia|  10755879|\n",
      "|            Roraima|    593811|\n",
      "|   Distrito Federal|   3015268|\n",
      "|         Pernambuco|   9090073|\n",
      "|           Amazonas|   1480757|\n",
      "|               Acre|    814380|\n",
      "|  Rio Grande do Sul|   9243594|\n",
      "|Rio Grande do Norte|   2966203|\n",
      "|            Sergipe|   2181265|\n",
      "|          São Paulo|  44009352|\n",
      "|     Rio de Janeiro|  17189230|\n",
      "+-------------------+----------+\n",
      "only showing top 20 rows\n",
      "\n"
     ]
    }
   ],
   "source": [
    "spark.sql(\"SELECT state,SUM(population) as Population FROM Brazil_Population GROUP BY(state)\").show()"
   ]
  },
  {
   "cell_type": "code",
   "execution_count": 63,
   "metadata": {},
   "outputs": [
    {
     "name": "stdout",
     "output_type": "stream",
     "text": [
      "+--------------------+-----------+\n",
      "|                name|Total_Cases|\n",
      "+--------------------+-----------+\n",
      "|     Cedro do Abaeté|     1498.0|\n",
      "|           Miravânia|     1925.0|\n",
      "|          Araguainha|     2742.0|\n",
      "|           Ubiretama|     2840.0|\n",
      "|            Serranos|     2990.0|\n",
      "| Santana do Garambéu|     3109.0|\n",
      "|      Pedro Teixeira|     3245.0|\n",
      "|   São João do Pacuí|     3301.0|\n",
      "|      Sítio d'Abadia|     3381.0|\n",
      "|            Monjolos|     3633.0|\n",
      "|        Pedras Altas|     3641.0|\n",
      "|Santa Rita de Ibi...|     3694.0|\n",
      "|Dezesseis de Nove...|     3739.0|\n",
      "| Lagoa Bonita do Sul|     3981.0|\n",
      "|   Estrela do Indaiá|     4140.0|\n",
      "|     Oliveira Fortes|     4195.0|\n",
      "|              Olaria|     4388.0|\n",
      "|    Serra da Saudade|     4489.0|\n",
      "|     Bonito de Minas|     4490.0|\n",
      "|              Calmon|     4518.0|\n",
      "+--------------------+-----------+\n",
      "only showing top 20 rows\n",
      "\n"
     ]
    }
   ],
   "source": [
    "spark.sql(\"SELECT name,SUM(cases) as Total_Cases FROM Brazil_Cases GROUP BY(name) ORDER BY (Total_Cases)\").show()"
   ]
  },
  {
   "cell_type": "code",
   "execution_count": 64,
   "metadata": {},
   "outputs": [
    {
     "name": "stdout",
     "output_type": "stream",
     "text": [
      "+----------+---------+--------+-----+\n",
      "|      date|     name|   cases|state|\n",
      "+----------+---------+--------+-----+\n",
      "|2021-05-23|São Paulo|768868.0|   SP|\n",
      "+----------+---------+--------+-----+\n",
      "\n"
     ]
    }
   ],
   "source": [
    "spark.sql(\"SELECT date,name,cases,state FROM Brazil_Cases WHERE cases=(SELECT MAX(cases) FROM Brazil_Cases)\").show()"
   ]
  },
  {
   "cell_type": "code",
   "execution_count": 65,
   "metadata": {},
   "outputs": [],
   "source": [
    "case_by_date=spark.sql(\"SELECT SUM(cases) FROM Brazil_Cases Group By(date)\")"
   ]
  },
  {
   "cell_type": "code",
   "execution_count": 66,
   "metadata": {},
   "outputs": [
    {
     "name": "stdout",
     "output_type": "stream",
     "text": [
      "+-----------+\n",
      "| sum(cases)|\n",
      "+-----------+\n",
      "|  3608650.0|\n",
      "|  8957381.0|\n",
      "|  2335384.0|\n",
      "|  2849006.0|\n",
      "|  6287458.0|\n",
      "|    85312.0|\n",
      "|  3789740.0|\n",
      "|  3830949.0|\n",
      "|  4894981.0|\n",
      "|1.4555934E7|\n",
      "|1.5324092E7|\n",
      "|  4638138.0|\n",
      "|  7131630.0|\n",
      "|1.4273693E7|\n",
      "|   345182.0|\n",
      "|  9823999.0|\n",
      "|  7079215.0|\n",
      "|1.2015055E7|\n",
      "|1.4744656E7|\n",
      "|  8474214.0|\n",
      "+-----------+\n",
      "only showing top 20 rows\n",
      "\n"
     ]
    }
   ],
   "source": [
    "case_by_date.show()"
   ]
  },
  {
   "cell_type": "code",
   "execution_count": 67,
   "metadata": {},
   "outputs": [],
   "source": [
    "from sklearn.linear_model import LinearRegression\n",
    "def predict_regression(data):\n",
    "    scaler=MinMaxScaler(feature_range=(0,1))\n",
    "    \n",
    "    data=scale_data(scaler,data)\n",
    "    \n",
    "    x,y=create_dataset(data,25)\n",
    "    \n",
    "    x_train,y_train,x_test,y_test=split_data(x,y)\n",
    "    \n",
    "    print(x_train.shape,y_train.shape,x_test.shape,y_test.shape)\n",
    "    print(\"\\n\\n\\n\")\n",
    "    \n",
    "    model=LinearRegression()    \n",
    "    \n",
    "    model.fit(x_train,y_train)\n",
    "    \n",
    "    y_pred=model.predict(x_test)\n",
    "    \n",
    "    error=numpy.sqrt(mean_squared_error(y_test,y_pred))\n",
    "    \n",
    "    print(\"Error : \",error)\n",
    "    \n",
    "    y_test=scaler.inverse_transform(y_test.reshape(-1,1))\n",
    "    y_pred=scaler.inverse_transform(y_pred.reshape(-1,1))\n",
    "                \n",
    "    plt.plot(y_test,color='red',label='Actual')\n",
    "    plt.plot(y_pred,color='yellow',label='Prediction')\n",
    "    plt.legend()\n",
    "    plt.show()"
   ]
  },
  {
   "cell_type": "code",
   "execution_count": 68,
   "metadata": {},
   "outputs": [
    {
     "name": "stdout",
     "output_type": "stream",
     "text": [
      "(357, 25) (357,) (40, 25) (40,)\n",
      "\n",
      "\n",
      "\n",
      "\n",
      "Error :  0.2613639032111739\n"
     ]
    },
    {
     "data": {
      "image/png": "[encoded data removed]",
      "text/plain": [
       "<Figure size 432x288 with 1 Axes>"
      ]
     },
     "metadata": {
      "needs_background": "light"
     },
     "output_type": "display_data"
    }
   ],
   "source": [
    "Brazil_Case=case_by_date.collect()\n",
    "predict_regression(numpy.array(Brazil_Case))"
   ]
  },
  {
   "cell_type": "code",
   "execution_count": 69,
   "metadata": {},
   "outputs": [],
   "source": [
    "death_by_date=spark.sql(\"SELECT SUM(deaths) FROM Brazil_Cases Group By(date)\")"
   ]
  },
  {
   "cell_type": "code",
   "execution_count": 70,
   "metadata": {},
   "outputs": [
    {
     "name": "stdout",
     "output_type": "stream",
     "text": [
      "(357, 25) (357,) (40, 25) (40,)\n",
      "\n",
      "\n",
      "\n",
      "\n",
      "Error :  0.29221645626579595\n"
     ]
    },
    {
     "data": {
      "image/png": "[encoded data removed]",
      "text/plain": [
       "<Figure size 432x288 with 1 Axes>"
      ]
     },
     "metadata": {
      "needs_background": "light"
     },
     "output_type": "display_data"
    }
   ],
   "source": [
    "Brazil_Death=death_by_date.collect()\n",
    "predict_regression(numpy.array(Brazil_Death))"
   ]
  },
  {
   "cell_type": "code",
   "execution_count": 71,
   "metadata": {},
   "outputs": [],
   "source": [
    "cases_by_date_city=spark.sql(\"SELECT SUM(cases) FROM Brazil_Cases WHERE name = 'Calmon' Group By(date)\")"
   ]
  },
  {
   "cell_type": "code",
   "execution_count": 72,
   "metadata": {},
   "outputs": [
    {
     "name": "stdout",
     "output_type": "stream",
     "text": [
      "(357, 25) (357,) (40, 25) (40,)\n",
      "\n",
      "\n",
      "\n",
      "\n",
      "Error :  0.27571851539579795\n"
     ]
    },
    {
     "data": {
      "image/png": "[encoded data removed]",
      "text/plain": [
       "<Figure size 432x288 with 1 Axes>"
      ]
     },
     "metadata": {
      "needs_background": "light"
     },
     "output_type": "display_data"
    }
   ],
   "source": [
    "Calmon_Case=cases_by_date_city.collect()\n",
    "predict_regression(numpy.array(Calmon_Case))"
   ]
  },
  {
   "cell_type": "code",
   "execution_count": 73,
   "metadata": {},
   "outputs": [],
   "source": [
    "death_by_date_city=spark.sql(\"SELECT SUM(cases) FROM Brazil_Cases WHERE name = 'Calmon' Group By(date)\")"
   ]
  },
  {
   "cell_type": "code",
   "execution_count": 74,
   "metadata": {},
   "outputs": [
    {
     "name": "stdout",
     "output_type": "stream",
     "text": [
      "(357, 25) (357,) (40, 25) (40,)\n",
      "\n",
      "\n",
      "\n",
      "\n",
      "Error :  0.30456282579671384\n"
     ]
    },
    {
     "data": {
      "image/png": "[encoded data removed]",
      "text/plain": [
       "<Figure size 432x288 with 1 Axes>"
      ]
     },
     "metadata": {
      "needs_background": "light"
     },
     "output_type": "display_data"
    }
   ],
   "source": [
    "Calmon_Death=death_by_date_city.collect()\n",
    "predict_regression(numpy.array(Calmon_Death))"
   ]
  },
  {
   "cell_type": "code",
   "execution_count": 77,
   "metadata": {},
   "outputs": [],
   "source": [
    "sc.stop()"
   ]
  },
  {
   "cell_type": "code",
   "execution_count": 78,
   "metadata": {},
   "outputs": [],
   "source": [
    "spark.stop()"
   ]
  }
 ],
 "metadata": {
  "kernelspec": {
   "display_name": "Python 3",
   "language": "python",
   "name": "python3"
  },
  "language_info": {
   "codemirror_mode": {
    "name": "ipython",
    "version": 3
   },
   "file_extension": ".py",
   "mimetype": "text/x-python",
   "name": "python",
   "nbconvert_exporter": "python",
   "pygments_lexer": "ipython3",
   "version": "3.7.6"
  }
 },
 "nbformat": 4,
 "nbformat_minor": 5
}
